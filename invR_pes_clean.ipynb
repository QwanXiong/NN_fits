{
  "nbformat": 4,
  "nbformat_minor": 0,
  "metadata": {
    "colab": {
      "provenance": [],
      "gpuType": "T4"
    },
    "kernelspec": {
      "name": "python3",
      "display_name": "Python 3"
    },
    "language_info": {
      "name": "python"
    },
    "gpuClass": "standard"
  },
  "cells": [
    {
      "cell_type": "code",
      "execution_count": null,
      "metadata": {
        "id": "_JtiI42wLPtV"
      },
      "outputs": [],
      "source": []
    },
    {
      "cell_type": "markdown",
      "source": [
        "# Downloading data"
      ],
      "metadata": {
        "id": "muJ5JFY3LYbJ"
      }
    },
    {
      "cell_type": "code",
      "source": [
        "!wget https://raw.githubusercontent.com/QwanXiong/NN_properties/main/inv_r_test.txt\n",
        "!wget https://raw.githubusercontent.com/QwanXiong/NN_properties/main/inv_r_train.txt\n",
        "\n",
        "!wget https://raw.githubusercontent.com/QwanXiong/NN_properties/main/enrg_s0_train.txt\n",
        "!wget https://raw.githubusercontent.com/QwanXiong/NN_properties/main/enrg_s0_test.txt\n",
        "\n",
        "!wget https://raw.githubusercontent.com/QwanXiong/NN_properties/main/jac_train.txt\n",
        "!wget https://raw.githubusercontent.com/QwanXiong/NN_properties/main/jac_test.txt\n",
        "\n",
        "!wget https://raw.githubusercontent.com/QwanXiong/NN_properties/main/grad_1_train.txt\n",
        "!wget https://raw.githubusercontent.com/QwanXiong/NN_properties/main/grad_1_test.txt"
      ],
      "metadata": {
        "id": "g1KrbSe1LUOF",
        "colab": {
          "base_uri": "https://localhost:8080/"
        },
        "outputId": "b7a3bf70-cbad-4eec-f493-0fd247215da0"
      },
      "execution_count": 1,
      "outputs": [
        {
          "output_type": "stream",
          "name": "stdout",
          "text": [
            "--2023-06-14 04:04:08--  https://raw.githubusercontent.com/QwanXiong/NN_properties/main/inv_r_test.txt\n",
            "Resolving raw.githubusercontent.com (raw.githubusercontent.com)... 185.199.110.133, 185.199.111.133, 185.199.108.133, ...\n",
            "Connecting to raw.githubusercontent.com (raw.githubusercontent.com)|185.199.110.133|:443... connected.\n",
            "HTTP request sent, awaiting response... 200 OK\n",
            "Length: 220220 (215K) [text/plain]\n",
            "Saving to: ‘inv_r_test.txt’\n",
            "\n",
            "\rinv_r_test.txt        0%[                    ]       0  --.-KB/s               \rinv_r_test.txt      100%[===================>] 215.06K  --.-KB/s    in 0.03s   \n",
            "\n",
            "2023-06-14 04:04:08 (8.14 MB/s) - ‘inv_r_test.txt’ saved [220220/220220]\n",
            "\n",
            "--2023-06-14 04:04:08--  https://raw.githubusercontent.com/QwanXiong/NN_properties/main/inv_r_train.txt\n",
            "Resolving raw.githubusercontent.com (raw.githubusercontent.com)... 185.199.108.133, 185.199.109.133, 185.199.110.133, ...\n",
            "Connecting to raw.githubusercontent.com (raw.githubusercontent.com)|185.199.108.133|:443... connected.\n",
            "HTTP request sent, awaiting response... 200 OK\n",
            "Length: 1144000 (1.1M) [text/plain]\n",
            "Saving to: ‘inv_r_train.txt’\n",
            "\n",
            "inv_r_train.txt     100%[===================>]   1.09M  --.-KB/s    in 0.05s   \n",
            "\n",
            "2023-06-14 04:04:09 (20.5 MB/s) - ‘inv_r_train.txt’ saved [1144000/1144000]\n",
            "\n",
            "--2023-06-14 04:04:09--  https://raw.githubusercontent.com/QwanXiong/NN_properties/main/enrg_s0_train.txt\n",
            "Resolving raw.githubusercontent.com (raw.githubusercontent.com)... 185.199.110.133, 185.199.109.133, 185.199.111.133, ...\n",
            "Connecting to raw.githubusercontent.com (raw.githubusercontent.com)|185.199.110.133|:443... connected.\n",
            "HTTP request sent, awaiting response... 200 OK\n",
            "Length: 76000 (74K) [text/plain]\n",
            "Saving to: ‘enrg_s0_train.txt’\n",
            "\n",
            "enrg_s0_train.txt   100%[===================>]  74.22K  --.-KB/s    in 0.02s   \n",
            "\n",
            "2023-06-14 04:04:09 (4.27 MB/s) - ‘enrg_s0_train.txt’ saved [76000/76000]\n",
            "\n",
            "--2023-06-14 04:04:09--  https://raw.githubusercontent.com/QwanXiong/NN_properties/main/enrg_s0_test.txt\n",
            "Resolving raw.githubusercontent.com (raw.githubusercontent.com)... 185.199.110.133, 185.199.108.133, 185.199.109.133, ...\n",
            "Connecting to raw.githubusercontent.com (raw.githubusercontent.com)|185.199.110.133|:443... connected.\n",
            "HTTP request sent, awaiting response... 200 OK\n",
            "Length: 14630 (14K) [text/plain]\n",
            "Saving to: ‘enrg_s0_test.txt’\n",
            "\n",
            "enrg_s0_test.txt    100%[===================>]  14.29K  --.-KB/s    in 0s      \n",
            "\n",
            "2023-06-14 04:04:09 (50.9 MB/s) - ‘enrg_s0_test.txt’ saved [14630/14630]\n",
            "\n",
            "--2023-06-14 04:04:09--  https://raw.githubusercontent.com/QwanXiong/NN_properties/main/jac_train.txt\n",
            "Resolving raw.githubusercontent.com (raw.githubusercontent.com)... 185.199.108.133, 185.199.109.133, 185.199.110.133, ...\n",
            "Connecting to raw.githubusercontent.com (raw.githubusercontent.com)|185.199.108.133|:443... connected.\n",
            "HTTP request sent, awaiting response... 200 OK\n",
            "Length: 10121402 (9.7M) [text/plain]\n",
            "Saving to: ‘jac_train.txt’\n",
            "\n",
            "jac_train.txt       100%[===================>]   9.65M  --.-KB/s    in 0.1s    \n",
            "\n",
            "2023-06-14 04:04:10 (99.0 MB/s) - ‘jac_train.txt’ saved [10121402/10121402]\n",
            "\n",
            "--2023-06-14 04:04:10--  https://raw.githubusercontent.com/QwanXiong/NN_properties/main/jac_test.txt\n",
            "Resolving raw.githubusercontent.com (raw.githubusercontent.com)... 185.199.108.133, 185.199.111.133, 185.199.110.133, ...\n",
            "Connecting to raw.githubusercontent.com (raw.githubusercontent.com)|185.199.108.133|:443... connected.\n",
            "HTTP request sent, awaiting response... 200 OK\n",
            "Length: 1996550 (1.9M) [text/plain]\n",
            "Saving to: ‘jac_test.txt’\n",
            "\n",
            "jac_test.txt        100%[===================>]   1.90M  --.-KB/s    in 0.06s   \n",
            "\n",
            "2023-06-14 04:04:10 (32.4 MB/s) - ‘jac_test.txt’ saved [1996550/1996550]\n",
            "\n",
            "--2023-06-14 04:04:10--  https://raw.githubusercontent.com/QwanXiong/NN_properties/main/grad_1_train.txt\n",
            "Resolving raw.githubusercontent.com (raw.githubusercontent.com)... 185.199.108.133, 185.199.111.133, 185.199.110.133, ...\n",
            "Connecting to raw.githubusercontent.com (raw.githubusercontent.com)|185.199.108.133|:443... connected.\n",
            "HTTP request sent, awaiting response... 200 OK\n",
            "Length: 766545 (749K) [text/plain]\n",
            "Saving to: ‘grad_1_train.txt’\n",
            "\n",
            "grad_1_train.txt    100%[===================>] 748.58K  --.-KB/s    in 0.05s   \n",
            "\n",
            "2023-06-14 04:04:10 (13.9 MB/s) - ‘grad_1_train.txt’ saved [766545/766545]\n",
            "\n",
            "--2023-06-14 04:04:10--  https://raw.githubusercontent.com/QwanXiong/NN_properties/main/grad_1_test.txt\n",
            "Resolving raw.githubusercontent.com (raw.githubusercontent.com)... 185.199.108.133, 185.199.109.133, 185.199.110.133, ...\n",
            "Connecting to raw.githubusercontent.com (raw.githubusercontent.com)|185.199.108.133|:443... connected.\n",
            "HTTP request sent, awaiting response... 200 OK\n",
            "Length: 152434 (149K) [text/plain]\n",
            "Saving to: ‘grad_1_test.txt’\n",
            "\n",
            "grad_1_test.txt     100%[===================>] 148.86K  --.-KB/s    in 0.02s   \n",
            "\n",
            "2023-06-14 04:04:11 (6.09 MB/s) - ‘grad_1_test.txt’ saved [152434/152434]\n",
            "\n"
          ]
        }
      ]
    },
    {
      "cell_type": "markdown",
      "source": [
        "# Imports"
      ],
      "metadata": {
        "id": "39vVFdgXMDQU"
      }
    },
    {
      "cell_type": "code",
      "source": [
        "from sklearn.linear_model import LinearRegression\n",
        "from sklearn.preprocessing import StandardScaler\n",
        "\n",
        "from IPython.display import clear_output\n",
        "from collections import defaultdict\n",
        "import matplotlib.pyplot as plt\n",
        "import numpy as np\n",
        "\n",
        "import torch\n",
        "import torch.nn as nn\n",
        "\n",
        "from sklearn.model_selection import train_test_split\n",
        "\n",
        "from copy import deepcopy\n",
        "\n",
        "class ProgressPlotter:\n",
        "  def __init__(self) -> None:\n",
        "    self._history_dict = defaultdict(list)\n",
        "\n",
        "  def add_scalar(self, tag: str, value)-> None:\n",
        "    self._history_dict[tag].append(value)\n",
        "\n",
        "  def display_keys(self,ax,tags):\n",
        "    if isinstance(tags, str):\n",
        "      tags = [tags]\n",
        "    history_len = 0\n",
        "    ax.grid()\n",
        "    for key in tags:\n",
        "      ax.plot(self._history_dict[key], marker=\"X\",label=key)\n",
        "      history_len = max(history_len,len(self.history_dict[key]))\n",
        "    if len(tags) > 1:\n",
        "      ax.legend(loc=\"lower left\")\n",
        "    else:\n",
        "      ax.set_ylabel(key)\n",
        "    ax.set_xlabel('step')\n",
        "    ax.set_xticks(np.arange(history_len))\n",
        "    ax.set_xticklabels(np.arange(history_len))\n",
        "\n",
        "  def display(self,groups = None):\n",
        "    # groups list ofkeys like [['loss_train','loss_val'],['accuracy']]\n",
        "    clear_output()\n",
        "    n_groups = len(groups)\n",
        "    fig, ax = plt.subplots(n_groups, 1, figsize=(12, 3*n_groups))\n",
        "    if n_groups == 1:\n",
        "      ax = [ax]\n",
        "    for i, keys in enumerate(groups):\n",
        "      self.display_keys(ax[i],keys)\n",
        "    fig.tight_layout()\n",
        "    plt.show()\n",
        "\n",
        "  @property\n",
        "  def history_dict(self):\n",
        "    return dict(self._history_dict)\n",
        "\n",
        "@torch.inference_mode()\n",
        "def calaculate_accuracy(model, data_loader, criterion ):\n",
        "    correct, total = 0, 0\n",
        "    loss = 0\n",
        "    for batch in data_loader:\n",
        "        imgs, labels = batch\n",
        "        pred = model(imgs)\n",
        "        loss += criterion(pred, labels)\n",
        "        #correct += get_correct_count(pred,labels)\n",
        "       # total += labels.size(0)\n",
        "\n",
        "    return loss.item() / len(data_loader)\n",
        "\n",
        "class SSP(torch.nn.Softplus):\n",
        "    def __init__(self, beta=1, threshold=20):\n",
        "        super(SSP, self).__init__(beta, threshold)\n",
        "    def forward(self, input):\n",
        "        sp0 = torch.nn.functional.softplus(torch.zeros(1), self.beta, self.threshold).item()\n",
        "        return torch.nn.functional.softplus(input, self.beta, self.threshold) - sp0"
      ],
      "metadata": {
        "id": "Iz8trAzOMFp3"
      },
      "execution_count": 2,
      "outputs": []
    },
    {
      "cell_type": "code",
      "source": [
        "device = torch.device(\"cuda\" if torch.cuda.is_available() else \"cpu\")"
      ],
      "metadata": {
        "id": "g9ZS0XlTMMR-"
      },
      "execution_count": 3,
      "outputs": []
    },
    {
      "cell_type": "code",
      "source": [
        "device"
      ],
      "metadata": {
        "colab": {
          "base_uri": "https://localhost:8080/"
        },
        "id": "wWOtVZ_EYCx_",
        "outputId": "d24fa030-a636-4576-d308-e9d21918f84b"
      },
      "execution_count": 4,
      "outputs": [
        {
          "output_type": "execute_result",
          "data": {
            "text/plain": [
              "device(type='cpu')"
            ]
          },
          "metadata": {},
          "execution_count": 4
        }
      ]
    },
    {
      "cell_type": "markdown",
      "source": [
        "# Scaling and splitting"
      ],
      "metadata": {
        "id": "i6FsbMSzNFTb"
      }
    },
    {
      "cell_type": "code",
      "source": [
        "inverse_r_dataset_train = np.loadtxt('inv_r_train.txt')\n",
        "inverse_r_test = np.loadtxt('inv_r_test.txt')\n",
        "\n",
        "jac_dr_dx_dataset_train = np.loadtxt('jac_train.txt').reshape((4000,15,18))\n",
        "jac_dr_dx_test = np.loadtxt('jac_test.txt').reshape((770,15,18))\n",
        "\n",
        "enrg_s0_dataset_train = np.loadtxt('enrg_s0_train.txt')\n",
        "enrg_s0_test = np.loadtxt('enrg_s0_test.txt')\n",
        "\n",
        "grad_1_dataset_train = np.loadtxt('grad_1_train.txt')\n",
        "grad_1_test = np.loadtxt('grad_1_test.txt')"
      ],
      "metadata": {
        "id": "TEn7EVCtMNV3"
      },
      "execution_count": 5,
      "outputs": []
    },
    {
      "cell_type": "code",
      "source": [
        "inverse_r_train,inverse_r_val, grad_1_train, grad_1_val, enrg_s0_train,enrg_s0_val,\\\n",
        "jac_dr_dx_train, jac_dr_dx_val = \\\n",
        " train_test_split(inverse_r_dataset_train,grad_1_dataset_train, enrg_s0_dataset_train,  jac_dr_dx_dataset_train, test_size=0.1,random_state=42)"
      ],
      "metadata": {
        "id": "OCBvPfYDNDq_"
      },
      "execution_count": 6,
      "outputs": []
    },
    {
      "cell_type": "code",
      "source": [
        "inverse_r_train.shape"
      ],
      "metadata": {
        "colab": {
          "base_uri": "https://localhost:8080/"
        },
        "id": "zHmc4StDN2c8",
        "outputId": "1ad1e0fc-cbe1-4a42-ebb6-304965856361"
      },
      "execution_count": null,
      "outputs": [
        {
          "output_type": "execute_result",
          "data": {
            "text/plain": [
              "(3600, 15)"
            ]
          },
          "metadata": {},
          "execution_count": 7
        }
      ]
    },
    {
      "cell_type": "code",
      "source": [
        "scaler_inv_r = StandardScaler()\n",
        "scaler_inv_r.fit(inverse_r_train)\n",
        "inverse_r_scaled_train = scaler_inv_r.transform(inverse_r_train)\n",
        "inverse_r_scaled_val = scaler_inv_r.transform(inverse_r_val)\n",
        "inverse_r_scaled_test = scaler_inv_r.transform(inverse_r_test)\n",
        "\n",
        "scaler_enrg = StandardScaler()\n",
        "scaler_enrg.fit(enrg_s0_train.reshape(-1,1))\n",
        "enrg_s0_scaled_train = scaler_enrg.transform(enrg_s0_train.reshape(-1,1))\n",
        "enrg_s0_scaled_val = scaler_enrg.transform(enrg_s0_val.reshape(-1,1))\n",
        "enrg_s0_scaled_test = scaler_enrg.transform(enrg_s0_test.reshape(-1,1))"
      ],
      "metadata": {
        "id": "iPpeDH5bNiSJ"
      },
      "execution_count": 7,
      "outputs": []
    },
    {
      "cell_type": "markdown",
      "source": [
        "# Model"
      ],
      "metadata": {
        "id": "5y6DjrIYOtVl"
      }
    },
    {
      "cell_type": "code",
      "source": [],
      "metadata": {
        "id": "cd8PgAHbRK82"
      },
      "execution_count": null,
      "outputs": []
    },
    {
      "cell_type": "code",
      "source": [
        "class FCNet_inv_r(nn.Module):\n",
        "    def __init__(self):\n",
        "        super().__init__()\n",
        "        self.fc1 = nn.Linear(15, 50)\n",
        "        self.fc2 = nn.Linear(50, 50)\n",
        "        self.fc3 = nn.Linear(50,50)\n",
        "        self.fc4 = nn.Linear(50,50)\n",
        "        self.fc5 = nn.Linear(50,50)\n",
        "        self.fc6 = nn.Linear(50,50)\n",
        "        self.fc7 = nn.Linear(50,50)\n",
        "        self.fc8 = nn.Linear(50,1)\n",
        "        self.bn = nn.BatchNorm1d(50)\n",
        "       # self.lin = nn.Linear(15,1)\n",
        "        self.activation = SSP()\n",
        "\n",
        "    def forward(self, x):\n",
        "       # x = x.view(-1, 3*32*32) # \"reshape\" image to vector\n",
        "        x = self.fc1(x)\n",
        "        res = x\n",
        "        x = self.activation(x)\n",
        "        x = self.fc2(x)\n",
        "        x = self.activation(x)\n",
        "        x = self.fc3(x)\n",
        "       # x = self.bn(x)\n",
        "        x = self.activation(x)\n",
        "        x = self.fc4(x)\n",
        "        x = self.activation(x)\n",
        "        x = self.fc5(x)\n",
        "        x = x + res\n",
        "        x = self.activation(x)\n",
        "        x = self.fc6(x)\n",
        "        #x = self.bn(x)\n",
        "        x = self.activation(x)\n",
        "        x = self.fc7(x)\n",
        "        x = self.activation(x)\n",
        "        x = self.fc8(x)\n",
        "        #x = self.lin(x)\n",
        "        return x\n",
        "\n",
        "\n",
        "    def calc_grads_train_2(self):\n",
        "      x = torch.from_numpy(inverse_r_scaled_train)\n",
        "      x = x.to(device)\n",
        "      x.requires_grad = True\n",
        "      output = self.forward(x)\n",
        "      ext_grad = torch.from_numpy(np.ones(x.shape[0])).reshape(-1,1)\n",
        "      ext_grad = ext_grad.to(device)\n",
        "      de_dr   = torch.autograd.grad(outputs=output, inputs=x,\\\n",
        "                                   grad_outputs=ext_grad, retain_graph=True, \\\n",
        "                                   create_graph=True)[0]\n",
        "      de_dr = de_dr*torch.from_numpy(np.sqrt(scaler_enrg.var_)/np.sqrt(scaler_inv_r.var_)).to(device)\n",
        "      jac = torch.from_numpy(jac_dr_dx_train)\n",
        "      jac = jac.to(device)\n",
        "      de_dx = torch.matmul(de_dr.reshape(x.shape[0],1,15),jac)\n",
        "      return de_dx\n",
        "    def calc_grads_test_2(self):\n",
        "      x = torch.from_numpy(inverse_r_scaled_val)\n",
        "      x = x.to(device)\n",
        "      x.requires_grad = True\n",
        "      output = self.forward(x)\n",
        "      ext_grad = torch.from_numpy(np.ones(x.shape[0])).reshape(-1,1)\n",
        "      ext_grad = ext_grad.to(device)\n",
        "      de_dr   = torch.autograd.grad(outputs=output, inputs=x,\\\n",
        "                                   grad_outputs=ext_grad, retain_graph=True, \\\n",
        "                                   create_graph=True)[0]\n",
        "      de_dr = de_dr*torch.from_numpy(np.sqrt(scaler_enrg.var_)/np.sqrt(scaler_inv_r.var_)).to(device)\n",
        "      jac = torch.from_numpy(jac_dr_dx_val)\n",
        "      jac = jac.to(device)\n",
        "      de_dx = torch.matmul(de_dr.reshape(x.shape[0],1,15),jac)\n",
        "      return de_dx"
      ],
      "metadata": {
        "id": "Sds0AMSoTIGz"
      },
      "execution_count": 8,
      "outputs": []
    },
    {
      "cell_type": "code",
      "source": [
        "n=3600\n",
        "best_model = None\n",
        "best_metrics = np.inf\n",
        "best_metrics_list = []\n",
        "numbatch=1\n",
        "from copy import deepcopy\n",
        "def train_lbfgs(model, criterion_grad, criterion, optimizer, scheduler, num_epochs=10, tag=\"cifar10\"):\n",
        "    global best_metrics\n",
        "    global best_model\n",
        "    global best_metrics_list\n",
        "    pp = ProgressPlotter()\n",
        "    for epoch in range(num_epochs):\n",
        "        correct, total, ep_loss = 0, 0, 0\n",
        "        #for i in range(numbatch):\n",
        "            #def closure():\n",
        "\n",
        "        def closure():\n",
        "\n",
        "\n",
        "          optimizer.zero_grad()\n",
        "\n",
        "          grads = (model.calc_grads_train_2())[:,:]\n",
        "          #print(grads.shape)\n",
        "\n",
        "          pt = torch.from_numpy(inverse_r_scaled_train[:,:])\n",
        "\n",
        "          pt = pt.to(device)\n",
        "\n",
        "        #  pt.requires_grad = True\n",
        "          targ = torch.from_numpy((enrg_s0_scaled_train[:]))\n",
        "          targ = targ.to(device)\n",
        "          targ_grads = torch.from_numpy((grad_1_train[:])).reshape(n,1,18)\n",
        "          targ_grads = targ_grads.to(device)\n",
        "          #print(targ_grads.shape)\n",
        "           # pt.to(torch.float)\n",
        "            #targ.to(torch.double)\n",
        "            #targ = ham_s0[i]\n",
        "\n",
        "\n",
        "          outputs = model(pt)\n",
        "\n",
        "          #ext_grad = torch.from_numpy(np.ones(pt.shape[0])).reshape(-1,1)\n",
        "          #de_dr   = torch.autograd.grad(outputs=outputs, inputs=pt,\\\n",
        "             #                      grad_outputs=ext_grad, create_graph=True, retain_graph=True)[0]\n",
        "          #de_dr =  de_dr*2#/torch.from_numpy(np.sqrt(scaler_enrg.var_)/np.sqrt(scaler_inv_r.var_))/3.0\n",
        "          #jac = torch.from_numpy(jac_train_dr_dx[:n,:,:])\n",
        "          #grads = torch.matmul(de_dr.reshape(pt.shape[0],1,15),jac)\n",
        "\n",
        "          #pt.requires_grad=False\n",
        "\n",
        "          #if (epoch>10):\n",
        "          loss = criterion_grad(outputs, targ,grads,targ_grads)\n",
        "          #else:\n",
        "           # loss = criterion(outputs, targ)\n",
        "          loss.backward(retain_graph=True)\n",
        "         # ep_loss += loss.item()\n",
        "          #return loss\n",
        "          return loss.item()\n",
        "\n",
        "        def calc_loss_train():\n",
        "          with torch.no_grad():\n",
        "            pt = torch.from_numpy(inverse_r_scaled_train[:,:])\n",
        "            pt = pt.to(device)\n",
        "            targ = torch.from_numpy((enrg_s0_scaled_train[:]))\n",
        "            targ = targ.to(device)\n",
        "\n",
        "            outputs = model(pt)\n",
        "            loss = criterion(outputs, targ)\n",
        "\n",
        "          return loss.item()\n",
        "\n",
        "        def calc_loss_test():\n",
        "          with torch.no_grad():\n",
        "            pt = torch.from_numpy(inverse_r_scaled_val[:,:])\n",
        "            pt = pt.to(device)\n",
        "            targ = torch.from_numpy((enrg_s0_scaled_val[:]))\n",
        "            targ = targ.to(device)\n",
        "\n",
        "            outputs = model(pt)\n",
        "            loss = criterion(outputs, targ)\n",
        "\n",
        "          return loss.item()\n",
        "\n",
        "\n",
        "        optimizer.step(closure)\n",
        "\n",
        "\n",
        "        scheduler.step()\n",
        "\n",
        "        ep_loss = calc_loss_train()\n",
        "        # Logging\n",
        "        #pt = torch.from_numpy(inverse_r_test)\n",
        "        #targ = torch.from_numpy(ham_s0_test)\n",
        "        #val_output = model(pt)\n",
        "        #val_loss = criterion(val_output, targ)\n",
        "        pp.add_scalar\n",
        "        pp.add_scalar('loss_train', ep_loss / numbatch)\n",
        "       # pp.add_scalar('accuracy_train', correct/total)\n",
        "\n",
        "       # accuracy, loss_val = calaculate_accuracy(model,val_loader,criterion)\n",
        "        val_loss = calc_loss_test()\n",
        "        if val_loss < best_metrics:\n",
        "\n",
        "          #nonlocal best_metrics_list\n",
        "          #nonlocal best_model\n",
        "          best_metrics = val_loss\n",
        "          best_metrics_list.append(best_metrics)\n",
        "          best_model = deepcopy(model)\n",
        "          print('Best metrics: ',best_metrics)\n",
        "        pp.add_scalar('loss_val',val_loss)\n",
        "        #pp.add_scalar('accuracy_val',accuracy)\n",
        "\n",
        "        #pp.display([['loss_train','loss_val'],['accuracy_train','accuracy_val']])\n",
        "        pp.display([['loss_train','loss_val']])\n",
        "    return pp"
      ],
      "metadata": {
        "id": "VM9kyoeuTWgq"
      },
      "execution_count": 9,
      "outputs": []
    },
    {
      "cell_type": "code",
      "source": [
        "#import random\n",
        "class loss_grad(torch.nn.Module):\n",
        "  def __init__(self):\n",
        "    super().__init__()\n",
        "\n",
        "  def forward(self,output,targ,grads,targ_grads):\n",
        "    #return torch.mean((output-targ)**2 + ((grads-targ_grads)/torch.sqrt(torch.from_numpy(scaler_grad.var_)))**2)\n",
        "    #print( torch.mean((output-targ)**2),torch.mean((grads-targ_grads)**2))\n",
        "    return 0.1*torch.mean(((targ)-(output))**2) + torch.mean(((grads)-(targ_grads))**2)\n",
        "\n",
        "\n",
        "model = FCNet_inv_r()  # Create model instance\n",
        "#model.train()\n",
        "model = model.double()\n",
        "model = model.to(device)\n",
        "#optimizer = torch.optim.AdamW(model.parameters(), lr=1e-1,weight_decay = 5e-7)  # Weight update\n",
        "optimizer = torch.optim.LBFGS(model.parameters(), lr=1e-1,history_size=100, line_search_fn='strong_wolfe',max_iter=50,tolerance_grad=1e-6,tolerance_change=1e-9)\n",
        "scheduler = torch.optim.lr_scheduler.StepLR(optimizer, gamma=0.2,step_size=10)\n",
        "#scheduler = torch.optim.lr_scheduler.ReduceLROnPlateau(optimizer,factor=0.1,threshold=1e-4)\n",
        "criterion = nn.MSELoss() # Loss function\n",
        "criterion_grad = loss_grad()\n",
        "pp = train_lbfgs(model, criterion_grad, criterion, optimizer, scheduler, num_epochs=30)"
      ],
      "metadata": {
        "colab": {
          "base_uri": "https://localhost:8080/",
          "height": 260
        },
        "id": "m77h_C6ITlvC",
        "outputId": "9704d00c-259f-4351-9b0a-f1494702db56"
      },
      "execution_count": 11,
      "outputs": [
        {
          "output_type": "display_data",
          "data": {
            "text/plain": [
              "<Figure size 1200x300 with 1 Axes>"
            ],
            "image/png": "[encoded data removed]"
          },
          "metadata": {}
        }
      ]
    },
    {
      "cell_type": "code",
      "source": [
        "import random\n",
        "class loss_grad2(torch.nn.Module):\n",
        "  def __init__(self):\n",
        "    super().__init__()\n",
        "\n",
        "  def forward(self,output,targ,grads,targ_grads):\n",
        "    rr = random.randint(0,3)\n",
        "\n",
        "    #print(grads,shape)\n",
        "    #return torch.mean((output-targ)**2 + ((grads-targ_grads)/torch.sqrt(torch.from_numpy(scaler_grad.var_)))**2)\n",
        "    #print( torch.mean((output-targ)**2),torch.mean((grads-targ_grads)**2))\n",
        "    #return 0.0*torch.mean((output-targ)**2) +torch.mean((grads-targ_grads)**2)\n",
        "    s = torch.tensor(0)\n",
        "    for i in range(grads.shape[0]):\n",
        "       tt = targ_grads[i,0]*(-1)**rr\n",
        "       s = s+torch.min(torch.sum((grads[i,0]-tt)**2),torch.sum((grads[i,0]+tt)**2))\n",
        "    return s/grads.shape[0]/grads.shape[1]/grads.shape[2]\n",
        "\n",
        "class loss_grad3(torch.nn.Module):\n",
        "  def __init__(self):\n",
        "    super().__init__()\n",
        "  def forward(self,output,targ,grads,targ_grads):\n",
        "    #print(grads,shape)\n",
        "    #return torch.mean((output-targ)**2 + ((grads-targ_grads)/torch.sqrt(torch.from_numpy(scaler_grad.var_)))**2)\n",
        "    #print( torch.mean((output-targ)**2),torch.mean((grads-targ_grads)**2))\n",
        "    #return 0.0*torch.mean((output-targ)**2) +torch.mean((grads-targ_grads)**2)\n",
        "    s = torch.tensor(0)\n",
        "    for i in range(grads.shape[0]):\n",
        "      for j in range(18):\n",
        "        for k in range(18):\n",
        "          s = s+(grads[i,0,j]*grads[i,0,k] -targ_grads[i,0,j]*targ_grads[i,0,k] )**2\n",
        "      # s = s+torch.min(torch.sum((grads[i,0]-targ_grads[i,0])**2),torch.sum((grads[i,0]+targ_grads[i,0])**2))\n",
        "    return s/grads.shape[0]/grads.shape[1]/18/18"
      ],
      "metadata": {
        "id": "qkeTplBsFCG3"
      },
      "execution_count": 12,
      "outputs": []
    },
    {
      "cell_type": "code",
      "source": [],
      "metadata": {
        "id": "JLX-SEKWzvwB"
      },
      "execution_count": null,
      "outputs": []
    },
    {
      "cell_type": "code",
      "source": [
        "gr=best_model.calc_grads_train_2( )\n",
        "gr_test=best_model.calc_grads_test_2( )"
      ],
      "metadata": {
        "id": "D5FlDQIAYjWC"
      },
      "execution_count": 13,
      "outputs": []
    },
    {
      "cell_type": "code",
      "source": [
        "#pred = best_model(torch.from_numpy(inverse_r_scaled_train).to(device))\n",
        "#pred_val = best_model(torch.from_numpy(inverse_r_scaled_val).to(device))\n",
        "#pred_test = best_model(torch.from_numpy(inverse_r_scaled_test).to(device))\n",
        "\n",
        "pred = model(torch.from_numpy(inverse_r_scaled_train).to(device))\n",
        "pred_val = model(torch.from_numpy(inverse_r_scaled_val).to(device))\n",
        "pred_test = model(torch.from_numpy(inverse_r_scaled_test).to(device))\n",
        "\n",
        "pred=pred.cpu().detach().numpy()\n",
        "pred_val=pred_val.cpu().detach().numpy()\n",
        "pred_test=pred_test.cpu().detach().numpy()\n",
        "plt.figure(figsize=(10,10))\n",
        "#plt.scatter(ham_s0_scaled_train[:3500],pred[:3500])\n",
        "#plt.scatter(ham_s0_scaled_test[:],pred_test[:])\n",
        "plt.scatter(scaler_enrg.inverse_transform(enrg_s0_scaled_train[:])*27,scaler_enrg.inverse_transform(pred[:])*27)\n",
        "plt.scatter(scaler_enrg.inverse_transform(enrg_s0_scaled_val[:])*27,scaler_enrg.inverse_transform(pred_val[:])*27)\n",
        "plt.scatter(scaler_enrg.inverse_transform(enrg_s0_scaled_test[:])*27,scaler_enrg.inverse_transform(pred_test[:])*27)\n",
        "plt.title(r\"S$_0$ energy\")\n",
        "plt.legend(['Train set','Validation set','Test set'])\n",
        "plt.xlabel('Dataset energies, eV')\n",
        "plt.ylabel('Predicted energies, eV')\n",
        "plt.show()"
      ],
      "metadata": {
        "colab": {
          "base_uri": "https://localhost:8080/",
          "height": 873
        },
        "id": "krRr8SJfYzKG",
        "outputId": "8026726b-f2df-4e23-d3ed-41afa1220415"
      },
      "execution_count": 14,
      "outputs": [
        {
          "output_type": "display_data",
          "data": {
            "text/plain": [
              "<Figure size 1000x1000 with 1 Axes>"
            ],
            "image/png": "[encoded data removed]"
          },
          "metadata": {}
        }
      ]
    },
    {
      "cell_type": "code",
      "source": [],
      "metadata": {
        "id": "Jp-mBuj9blGj"
      },
      "execution_count": null,
      "outputs": []
    }
  ]
}