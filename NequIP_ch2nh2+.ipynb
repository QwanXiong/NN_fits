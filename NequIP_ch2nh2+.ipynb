{
  "nbformat": 4,
  "nbformat_minor": 0,
  "metadata": {
    "colab": {
      "provenance": []
    },
    "kernelspec": {
      "name": "python3",
      "display_name": "Python 3"
    },
    "language_info": {
      "name": "python"
    },
    "gpuClass": "standard"
  },
  "cells": [
    {
      "cell_type": "code",
      "execution_count": 1,
      "metadata": {
        "colab": {
          "base_uri": "https://localhost:8080/"
        },
        "id": "RyjtsHVQXl91",
        "outputId": "71748257-42f9-4a59-eab9-5762aa8a3b0d"
      },
      "outputs": [
        {
          "output_type": "stream",
          "name": "stdout",
          "text": [
            "--2023-06-14 05:12:36--  https://raw.githubusercontent.com/QwanXiong/NN_properties/main/enrg_s0_train.txt\n",
            "Resolving raw.githubusercontent.com (raw.githubusercontent.com)... 185.199.111.133, 185.199.110.133, 185.199.108.133, ...\n",
            "Connecting to raw.githubusercontent.com (raw.githubusercontent.com)|185.199.111.133|:443... connected.\n",
            "HTTP request sent, awaiting response... 200 OK\n",
            "Length: 76000 (74K) [text/plain]\n",
            "Saving to: ‘enrg_s0_train.txt’\n",
            "\n",
            "\renrg_s0_train.txt     0%[                    ]       0  --.-KB/s               \renrg_s0_train.txt   100%[===================>]  74.22K  --.-KB/s    in 0.008s  \n",
            "\n",
            "2023-06-14 05:12:36 (9.40 MB/s) - ‘enrg_s0_train.txt’ saved [76000/76000]\n",
            "\n",
            "--2023-06-14 05:12:36--  https://raw.githubusercontent.com/QwanXiong/NN_properties/main/grad_1_train.txt\n",
            "Resolving raw.githubusercontent.com (raw.githubusercontent.com)... 185.199.108.133, 185.199.109.133, 185.199.110.133, ...\n",
            "Connecting to raw.githubusercontent.com (raw.githubusercontent.com)|185.199.108.133|:443... connected.\n",
            "HTTP request sent, awaiting response... 200 OK\n",
            "Length: 766545 (749K) [text/plain]\n",
            "Saving to: ‘grad_1_train.txt’\n",
            "\n",
            "grad_1_train.txt    100%[===================>] 748.58K  --.-KB/s    in 0.03s   \n",
            "\n",
            "2023-06-14 05:12:36 (24.4 MB/s) - ‘grad_1_train.txt’ saved [766545/766545]\n",
            "\n",
            "--2023-06-14 05:12:36--  https://raw.githubusercontent.com/QwanXiong/NN_properties/main/geom.txt\n",
            "Resolving raw.githubusercontent.com (raw.githubusercontent.com)... 185.199.108.133, 185.199.109.133, 185.199.110.133, ...\n",
            "Connecting to raw.githubusercontent.com (raw.githubusercontent.com)|185.199.108.133|:443... connected.\n",
            "HTTP request sent, awaiting response... 200 OK\n",
            "Length: 1404465 (1.3M) [text/plain]\n",
            "Saving to: ‘geom.txt’\n",
            "\n",
            "geom.txt            100%[===================>]   1.34M  --.-KB/s    in 0.04s   \n",
            "\n",
            "2023-06-14 05:12:36 (34.2 MB/s) - ‘geom.txt’ saved [1404465/1404465]\n",
            "\n"
          ]
        }
      ],
      "source": [
        "!wget https://raw.githubusercontent.com/QwanXiong/NN_properties/main/enrg_s0_train.txt\n",
        "!wget https://raw.githubusercontent.com/QwanXiong/NN_properties/main/grad_1_train.txt\n",
        "!wget https://raw.githubusercontent.com/QwanXiong/NN_properties/main/geom.txt"
      ]
    },
    {
      "cell_type": "code",
      "source": [
        "from sklearn.model_selection import train_test_split\n",
        "import numpy as np\n",
        "bohr_to_ang = 0.529177"
      ],
      "metadata": {
        "id": "0yFmEf6jYNp6"
      },
      "execution_count": 2,
      "outputs": []
    },
    {
      "cell_type": "code",
      "source": [
        "geom = np.loadtxt('geom.txt')\n",
        "geom = geom.reshape((4000,6,3),order='C')*bohr_to_ang\n",
        "enrg_s0 = np.loadtxt('enrg_s0_train.txt').reshape(4000,1)\n",
        "grad_s0 = np.loadtxt('grad_1_train.txt').reshape((4000,6,3),order='C')/bohr_to_ang\n",
        "z = np.array([6,7,1,1,1,1],dtype='uint8')\n"
      ],
      "metadata": {
        "id": "qYJbRfSyYaIv"
      },
      "execution_count": 3,
      "outputs": []
    },
    {
      "cell_type": "code",
      "source": [
        "#de/dang = de/dbohr*dbohr/dang = 1/bohr_to_ang*de/dang\n",
        "#bohr = ang/bohr_to_ang"
      ],
      "metadata": {
        "id": "g1ATHfAPBgr-"
      },
      "execution_count": null,
      "outputs": []
    },
    {
      "cell_type": "code",
      "source": [
        "forces_s0 = -np.copy(grad_s0)"
      ],
      "metadata": {
        "id": "HfjDXnJMqDhE"
      },
      "execution_count": 4,
      "outputs": []
    },
    {
      "cell_type": "code",
      "source": [
        "#forces_s0+grad_s0"
      ],
      "metadata": {
        "id": "by7YydeeqK3e"
      },
      "execution_count": null,
      "outputs": []
    },
    {
      "cell_type": "code",
      "source": [
        "geom_train,geom_test, enrg_s0_train, enrg_s0_test,grad_s0_train,grad_s0_test = \\\n",
        "train_test_split(geom,enrg_s0,forces_s0,test_size=0.1,random_state=42, shuffle=True)"
      ],
      "metadata": {
        "id": "xkKRVpa2eXh2"
      },
      "execution_count": 5,
      "outputs": []
    },
    {
      "cell_type": "code",
      "source": [
        "grad_s0_train.shape"
      ],
      "metadata": {
        "colab": {
          "base_uri": "https://localhost:8080/"
        },
        "id": "r7aVKXyJe0e_",
        "outputId": "a27e9170-65c4-4d96-8185-2ec41e165d5d"
      },
      "execution_count": 6,
      "outputs": [
        {
          "output_type": "execute_result",
          "data": {
            "text/plain": [
              "(3600, 6, 3)"
            ]
          },
          "metadata": {},
          "execution_count": 6
        }
      ]
    },
    {
      "cell_type": "code",
      "source": [],
      "metadata": {
        "id": "Oe1DNn-lcgd9"
      },
      "execution_count": null,
      "outputs": []
    },
    {
      "cell_type": "code",
      "source": [
        "with open('ch2nh2+_pot_train.npz','wb') as fil:\n",
        "  np.savez(fil,E=enrg_s0_train,F=grad_s0_train,z=z,R=geom_train )\n",
        "\n",
        "with open('ch2nh2+_pot_test.npz','wb') as fil:\n",
        "  np.savez(fil,E=enrg_s0_test,F=grad_s0_test,z=z,R=geom_test )"
      ],
      "metadata": {
        "id": "sjCln0j3ZbKz"
      },
      "execution_count": 7,
      "outputs": []
    },
    {
      "cell_type": "code",
      "source": [
        "with np.load('ch2nh2+_pot_test.npz') as fil:\n",
        "  print(fil.files)\n",
        "  print(fil['R'].shape)"
      ],
      "metadata": {
        "colab": {
          "base_uri": "https://localhost:8080/"
        },
        "id": "wNEFsHG7bywq",
        "outputId": "4579309b-6b4b-4fb3-c79b-0bd35b6fccf3"
      },
      "execution_count": 8,
      "outputs": [
        {
          "output_type": "stream",
          "name": "stdout",
          "text": [
            "['E', 'F', 'z', 'R']\n",
            "(400, 6, 3)\n"
          ]
        }
      ]
    },
    {
      "cell_type": "code",
      "source": [
        "%%capture\n",
        "# install wandb\n",
        "!pip install wandb\n",
        "# install nequip\n",
        "!git clone --depth 1 \"https://github.com/mir-group/nequip.git\"\n",
        "!pip install nequip/\n",
        "# fix colab imports\n",
        "import site\n",
        "site.main()\n",
        "# set to allow anonymous WandB\n",
        "import os\n",
        "os.environ[\"WANDB_ANONYMOUS\"] = \"must\"\n",
        "import numpy as np\n",
        "import torch\n",
        "from ase.io import read, write\n",
        "np.random.seed(0)\n",
        "torch.manual_seed(0)"
      ],
      "metadata": {
        "id": "9AWUhU0xh0CM"
      },
      "execution_count": 9,
      "outputs": []
    },
    {
      "cell_type": "code",
      "source": [
        "#!cp nequip/configs/example.yaml nequip/configs/example_ch2nh2.yaml"
      ],
      "metadata": {
        "id": "m3wHdzd9iR6G"
      },
      "execution_count": 10,
      "outputs": []
    },
    {
      "cell_type": "code",
      "source": [
        "!wget https://raw.githubusercontent.com/QwanXiong/NN_fits/main/ch2nh2.yaml\n",
        "!mv ch2nh2.yaml nequip/configs/example_ch2nh2.yaml"
      ],
      "metadata": {
        "colab": {
          "base_uri": "https://localhost:8080/"
        },
        "id": "FBMJIaXHWBn6",
        "outputId": "0aeee69d-396d-465f-e8bb-1e875e7b9a72"
      },
      "execution_count": 17,
      "outputs": [
        {
          "output_type": "stream",
          "name": "stdout",
          "text": [
            "--2023-06-14 05:38:17--  https://raw.githubusercontent.com/QwanXiong/NN_fits/main/ch2nh2.yaml\n",
            "Resolving raw.githubusercontent.com (raw.githubusercontent.com)... 185.199.110.133, 185.199.109.133, 185.199.111.133, ...\n",
            "Connecting to raw.githubusercontent.com (raw.githubusercontent.com)|185.199.110.133|:443... connected.\n",
            "HTTP request sent, awaiting response... 200 OK\n",
            "Length: 12468 (12K) [text/plain]\n",
            "Saving to: ‘ch2nh2.yaml’\n",
            "\n",
            "\rch2nh2.yaml           0%[                    ]       0  --.-KB/s               \rch2nh2.yaml         100%[===================>]  12.18K  --.-KB/s    in 0s      \n",
            "\n",
            "2023-06-14 05:38:17 (89.8 MB/s) - ‘ch2nh2.yaml’ saved [12468/12468]\n",
            "\n"
          ]
        }
      ]
    },
    {
      "cell_type": "code",
      "source": [
        "!rm -rf ./results\n",
        "!nequip-train nequip/configs/example_ch2nh2.yaml"
      ],
      "metadata": {
        "colab": {
          "base_uri": "https://localhost:8080/"
        },
        "id": "Tzyz-bJQj4yA",
        "outputId": "3779b3de-dc40-435e-bc1e-466393bf5df2"
      },
      "execution_count": 18,
      "outputs": [
        {
          "output_type": "stream",
          "name": "stdout",
          "text": [
            "\u001b[34m\u001b[1mwandb\u001b[0m: Currently logged in as: \u001b[33manony-mouse-1540052\u001b[0m. Use \u001b[1m`wandb login --relogin`\u001b[0m to force relogin\n",
            "\u001b[34m\u001b[1mwandb\u001b[0m: Tracking run with wandb version 0.15.4\n",
            "\u001b[34m\u001b[1mwandb\u001b[0m: Run data is saved locally in \u001b[35m\u001b[1m/content/wandb/run-20230614_053830-eqyp79c1\u001b[0m\n",
            "\u001b[34m\u001b[1mwandb\u001b[0m: Run \u001b[1m`wandb offline`\u001b[0m to turn off syncing.\n",
            "\u001b[34m\u001b[1mwandb\u001b[0m: Syncing run \u001b[33mexample-run-toluene\u001b[0m\n",
            "\u001b[34m\u001b[1mwandb\u001b[0m: ⭐️ View project at \u001b[34m\u001b[4mhttps://wandb.ai/anony-mouse-1540052/toluene-example?apiKey=84d241338da7034b2a96ec21f5fe709a57c09563\u001b[0m\n",
            "\u001b[34m\u001b[1mwandb\u001b[0m: 🚀 View run at \u001b[34m\u001b[4mhttps://wandb.ai/anony-mouse-1540052/toluene-example/runs/eqyp79c1?apiKey=84d241338da7034b2a96ec21f5fe709a57c09563\u001b[0m\n",
            "\u001b[34m\u001b[1mwandb\u001b[0m: \u001b[33mWARNING\u001b[0m Do NOT share these links with anyone. They can be used to claim your runs.\n",
            "Torch device: cpu\n",
            "Processing dataset...\n",
            "Loaded data: Batch(batch=[21600], cell=[3600, 3, 3], edge_cell_shift=[107904, 3], edge_index=[2, 107904], forces=[21600, 3], pbc=[3600, 3], pos=[21600, 3], ptr=[3601], total_energy=[3600, 1])\n",
            "    processed data size: ~3.72 MB\n",
            "Cached processed data to disk\n",
            "Done!\n",
            "Successfully loaded the data set of type NpzDataset(3600)...\n",
            "Replace string dataset_forces_rms to 0.12431687861680984\n",
            "Replace string dataset_per_atom_total_energy_mean to 0.023460999131202698\n",
            "Atomic outputs are scaled by: [H, C, N: 0.124317], shifted by [H, C, N: 0.023461].\n",
            "Replace string dataset_forces_rms to 0.12431687861680984\n",
            "Initially outputs are globally scaled by: 0.12431687861680984, total_energy are globally shifted by None.\n",
            "Successfully built the network...\n",
            "Number of weights: 392824\n",
            "Number of trainable weights: 392824\n",
            "! Starting training ...\n",
            "\n",
            "validation\n",
            "# Epoch batch         loss       loss_f       loss_e        f_mae       f_rmse      H_f_mae      C_f_mae      N_f_mae  psavg_f_mae     H_f_rmse     C_f_rmse     N_f_rmse psavg_f_rmse        e_mae      e/N_mae\n",
            "Traceback (most recent call last):\n",
            "  File \"/usr/local/bin/nequip-train\", line 8, in <module>\n",
            "    sys.exit(main())\n",
            "  File \"/usr/local/lib/python3.10/dist-packages/nequip/scripts/train.py\", line 78, in main\n",
            "    trainer.train()\n",
            "  File \"/usr/local/lib/python3.10/dist-packages/nequip/train/trainer.py\", line 778, in train\n",
            "    self.epoch_step()\n",
            "  File \"/usr/local/lib/python3.10/dist-packages/nequip/train/trainer.py\", line 916, in epoch_step\n",
            "    self.batch_step(\n",
            "  File \"/usr/local/lib/python3.10/dist-packages/nequip/train/trainer.py\", line 817, in batch_step\n",
            "    out = self.model(input_data)\n",
            "  File \"/usr/local/lib/python3.10/dist-packages/torch/nn/modules/module.py\", line 1130, in _call_impl\n",
            "    return forward_call(*input, **kwargs)\n",
            "  File \"/usr/local/lib/python3.10/dist-packages/nequip/nn/_rescale.py\", line 140, in forward\n",
            "    data = self.model(data)\n",
            "  File \"/usr/local/lib/python3.10/dist-packages/torch/nn/modules/module.py\", line 1130, in _call_impl\n",
            "    return forward_call(*input, **kwargs)\n",
            "  File \"/usr/local/lib/python3.10/dist-packages/nequip/nn/_grad_output.py\", line 87, in forward\n",
            "    grads = torch.autograd.grad(\n",
            "  File \"/usr/local/lib/python3.10/dist-packages/torch/autograd/__init__.py\", line 276, in grad\n",
            "    return Variable._execution_engine.run_backward(  # Calls into the C++ engine to run the backward pass\n",
            "KeyboardInterrupt\n",
            "Traceback (most recent call last):\n",
            "  File \"/usr/local/bin/nequip-train\", line 8, in <module>\n",
            "    sys.exit(main())\n",
            "  File \"/usr/local/lib/python3.10/dist-packages/nequip/scripts/train.py\", line 78, in main\n",
            "    trainer.train()\n",
            "  File \"/usr/local/lib/python3.10/dist-packages/nequip/train/trainer.py\", line 778, in train\n",
            "    self.epoch_step()\n",
            "  File \"/usr/local/lib/python3.10/dist-packages/nequip/train/trainer.py\", line 916, in epoch_step\n",
            "    self.batch_step(\n",
            "  File \"/usr/local/lib/python3.10/dist-packages/nequip/train/trainer.py\", line 817, in batch_step\n",
            "    out = self.model(input_data)\n",
            "  File \"/usr/local/lib/python3.10/dist-packages/torch/nn/modules/module.py\", line 1130, in _call_impl\n",
            "    return forward_call(*input, **kwargs)\n",
            "  File \"/usr/local/lib/python3.10/dist-packages/nequip/nn/_rescale.py\", line 140, in forward\n",
            "    data = self.model(data)\n",
            "  File \"/usr/local/lib/python3.10/dist-packages/torch/nn/modules/module.py\", line 1130, in _call_impl\n",
            "    return forward_call(*input, **kwargs)\n",
            "  File \"/usr/local/lib/python3.10/dist-packages/nequip/nn/_grad_output.py\", line 87, in forward\n",
            "    grads = torch.autograd.grad(\n",
            "  File \"/usr/local/lib/python3.10/dist-packages/torch/autograd/__init__.py\", line 276, in grad\n",
            "    return Variable._execution_engine.run_backward(  # Calls into the C++ engine to run the backward pass\n",
            "KeyboardInterrupt\n",
            "\u001b[34m\u001b[1mwandb\u001b[0m: Waiting for W&B process to finish... \u001b[31m(failed 255).\u001b[0m Press Control-C to abort syncing.\n",
            "\u001b[34m\u001b[1mwandb\u001b[0m: 🚀 View run \u001b[33mexample-run-toluene\u001b[0m at: \u001b[34m\u001b[4mhttps://wandb.ai/anony-mouse-1540052/toluene-example/runs/eqyp79c1?apiKey=84d241338da7034b2a96ec21f5fe709a57c09563\u001b[0m\n",
            "\u001b[34m\u001b[1mwandb\u001b[0m: Synced 5 W&B file(s), 0 media file(s), 0 artifact file(s) and 0 other file(s)\n",
            "\u001b[34m\u001b[1mwandb\u001b[0m: Find logs at: \u001b[35m\u001b[1m./wandb/run-20230614_053830-eqyp79c1/logs\u001b[0m\n",
            "^C\n"
          ]
        }
      ]
    },
    {
      "cell_type": "code",
      "source": [
        "!nequip-deploy build --train-dir results/ch2nh2/example-run-ch2nh2 ch2nh2-deployed.pth"
      ],
      "metadata": {
        "colab": {
          "base_uri": "https://localhost:8080/"
        },
        "id": "Fa4pUK6D8re0",
        "outputId": "2bc7da4d-285f-4442-d037-c78b018a8fe6"
      },
      "execution_count": null,
      "outputs": [
        {
          "output_type": "stream",
          "name": "stdout",
          "text": [
            "INFO:root:Loading best_model from training session...\n",
            "INFO:root:Compiled & optimized model.\n"
          ]
        }
      ]
    },
    {
      "cell_type": "code",
      "source": [
        "!nequip-evaluate --train-dir results/ch2nh2/example-run-ch2nh2 --batch-size 50"
      ],
      "metadata": {
        "colab": {
          "base_uri": "https://localhost:8080/"
        },
        "id": "d-MI50Mo87sF",
        "outputId": "819220b8-8e0a-47b6-a364-932322979b45"
      },
      "execution_count": null,
      "outputs": [
        {
          "output_type": "stream",
          "name": "stdout",
          "text": [
            "Using device: cuda\n",
            "WARNING: please note that models running on CUDA are usually nondeterministc and that this manifests in the final test errors; for a _more_ deterministic result, please use `--device cpu`\n",
            "Loading model... \n",
            "loaded model from training session\n",
            "Loading original dataset...\n",
            "Loaded dataset specified in config.yaml.\n",
            "Using origial training dataset (3600 frames) minus training (2500 frames) and validation frames (200 frames), yielding a test set size of 900 frames.\n",
            "Starting...\n",
            "  0% 0/900 [00:00<?, ?it/s]\n",
            "\u001b[A\n",
            "  6% 50/900 [00:00<00:15, 55.90it/s]\n",
            " 11% 100/900 [00:01<00:15, 52.49it/s]\n",
            " 17% 150/900 [00:04<00:28, 26.69it/s]\n",
            "\u001b[A\n",
            " 28% 250/900 [00:05<00:11, 58.23it/s]\n",
            "\u001b[A\n",
            " 39% 350/900 [00:05<00:05, 97.62it/s]\n",
            "\u001b[A\n",
            " 50% 450/900 [00:05<00:03, 145.29it/s]\n",
            "\u001b[A\n",
            " 61% 550/900 [00:05<00:01, 199.27it/s]\n",
            "\u001b[A\n",
            " 72% 650/900 [00:05<00:00, 259.68it/s]\n",
            "\u001b[A\n",
            " 83% 750/900 [00:05<00:00, 321.96it/s]\n",
            "\u001b[A\n",
            " 94% 850/900 [00:05<00:00, 383.16it/s]\n",
            "100% 900/900 [00:06<00:00, 148.57it/s]\n",
            "\n",
            "\n",
            "--- Final result: ---\n",
            "               f_mae =  0.002156           \n",
            "              f_rmse =  0.005635           \n",
            "             H_f_mae =  0.001723           \n",
            "             C_f_mae =  0.003147           \n",
            "             N_f_mae =  0.002897           \n",
            "         psavg_f_mae =  0.002589           \n",
            "            H_f_rmse =  0.004283           \n",
            "            C_f_rmse =  0.008087           \n",
            "            N_f_rmse =  0.007194           \n",
            "        psavg_f_rmse =  0.006522           \n",
            "               e_mae =  0.000865           \n",
            "             e/N_mae =  0.000144           \n",
            "               f_mae =  0.002156           \n",
            "              f_rmse =  0.005635           \n",
            "             H_f_mae =  0.001723           \n",
            "             C_f_mae =  0.003147           \n",
            "             N_f_mae =  0.002897           \n",
            "         psavg_f_mae =  0.002589           \n",
            "            H_f_rmse =  0.004283           \n",
            "            C_f_rmse =  0.008087           \n",
            "            N_f_rmse =  0.007194           \n",
            "        psavg_f_rmse =  0.006522           \n",
            "               e_mae =  0.000865           \n",
            "             e/N_mae =  0.000144           \n"
          ]
        }
      ]
    },
    {
      "cell_type": "code",
      "source": [
        "from nequip.ase.nequip_calculator import NequIPCalculator"
      ],
      "metadata": {
        "id": "m8ENhlbd9KOo"
      },
      "execution_count": null,
      "outputs": []
    },
    {
      "cell_type": "code",
      "source": [],
      "metadata": {
        "id": "3Kqoo6ST9Rn6"
      },
      "execution_count": null,
      "outputs": []
    },
    {
      "cell_type": "code",
      "source": [
        "from google.colab import drive\n",
        "\n",
        "drive.mount(\"/content/drive\")"
      ],
      "metadata": {
        "colab": {
          "base_uri": "https://localhost:8080/"
        },
        "id": "SEzmNxig93rV",
        "outputId": "7b999322-0841-4774-8eb2-0745efdf96ad"
      },
      "execution_count": null,
      "outputs": [
        {
          "output_type": "stream",
          "name": "stdout",
          "text": [
            "Mounted at /content/drive\n"
          ]
        }
      ]
    },
    {
      "cell_type": "code",
      "source": [
        "FOLDER = \"/content/drive/MyDrive/init_models\""
      ],
      "metadata": {
        "id": "C4wTyEIv-U5g"
      },
      "execution_count": null,
      "outputs": []
    },
    {
      "cell_type": "code",
      "source": [
        "model_s0 = NequIPCalculator.from_deployed_model(f\"{FOLDER}/ch2nh2-deployed.pth\")"
      ],
      "metadata": {
        "colab": {
          "base_uri": "https://localhost:8080/"
        },
        "id": "zCtW8_jhOPcE",
        "outputId": "5c39f092-1731-4ce0-cc99-3ce4462d6141"
      },
      "execution_count": null,
      "outputs": [
        {
          "output_type": "stream",
          "name": "stderr",
          "text": [
            "/usr/local/lib/python3.9/dist-packages/nequip/utils/_global_options.py:58: UserWarning: Setting the GLOBAL value for jit fusion strategy to `[('DYNAMIC', 3)]` which is different than the previous value of `[('STATIC', 2), ('DYNAMIC', 10)]`\n",
            "  warnings.warn(\n",
            "/usr/local/lib/python3.9/dist-packages/nequip/ase/nequip_calculator.py:73: UserWarning: Trying to use chemical symbols as NequIP type names; this may not be correct for your model! To avoid this warning, please provide `species_to_type_name` explicitly.\n",
            "  warnings.warn(\n"
          ]
        }
      ]
    },
    {
      "cell_type": "code",
      "source": [
        "mol = read(f\"{FOLDER}/CH2NH2+_random.xyz\")"
      ],
      "metadata": {
        "id": "7niuJXOR-X9B"
      },
      "execution_count": null,
      "outputs": []
    },
    {
      "cell_type": "code",
      "source": [
        "mol.get_potential_energy()"
      ],
      "metadata": {
        "colab": {
          "base_uri": "https://localhost:8080/"
        },
        "id": "0LdJREY2-a0E",
        "outputId": "44d20c19-9d7b-49b0-cc3e-a3429cfb30b5"
      },
      "execution_count": null,
      "outputs": [
        {
          "output_type": "execute_result",
          "data": {
            "text/plain": [
              "-94.46443673"
            ]
          },
          "metadata": {},
          "execution_count": 15
        }
      ]
    },
    {
      "cell_type": "code",
      "source": [
        "model_s0.get_potential_energy(mol)"
      ],
      "metadata": {
        "colab": {
          "base_uri": "https://localhost:8080/"
        },
        "id": "JHwTxdYP-do-",
        "outputId": "1366fd28-09ee-44bc-dd16-5e4ad1e4d45d"
      },
      "execution_count": null,
      "outputs": [
        {
          "output_type": "execute_result",
          "data": {
            "text/plain": [
              "0.6605416536331177"
            ]
          },
          "metadata": {},
          "execution_count": 16
        }
      ]
    },
    {
      "cell_type": "code",
      "source": [
        "%%time\n",
        "grad_pred = np.zeros((3000,18))\n",
        "enrg_pred = np.zeros(3000)\n",
        "\n",
        "for i in range(2000):\n",
        "  if (i % 200 ==0):\n",
        "    print(i)\n",
        "  mol.set_positions(geom[i,:])\n",
        " # ff = model_s0.get_forces(mol).astype('float64')\n",
        "  enrg_pred[i] = model_s0.get_potential_energy(mol)\n",
        "  #grad_pred[i,:] = np.copy(ff).reshape(-1,)"
      ],
      "metadata": {
        "colab": {
          "base_uri": "https://localhost:8080/"
        },
        "id": "OXhMdJMd-rx8",
        "outputId": "175ad7ba-7b06-4aa7-e325-5257124892bf"
      },
      "execution_count": null,
      "outputs": [
        {
          "output_type": "stream",
          "name": "stdout",
          "text": [
            "0\n",
            "200\n",
            "400\n",
            "600\n",
            "800\n",
            "1000\n",
            "1200\n",
            "1400\n",
            "1600\n",
            "1800\n",
            "CPU times: user 3min 29s, sys: 2min 19s, total: 5min 49s\n",
            "Wall time: 3min 50s\n"
          ]
        }
      ]
    },
    {
      "cell_type": "code",
      "source": [
        "import matplotlib.pyplot as plt"
      ],
      "metadata": {
        "id": "L8f34-Ql_iRA"
      },
      "execution_count": null,
      "outputs": []
    },
    {
      "cell_type": "code",
      "source": [
        "plt.scatter(grad_s0[:3000,:],-grad_pred[:3000,:])"
      ],
      "metadata": {
        "colab": {
          "base_uri": "https://localhost:8080/",
          "height": 447
        },
        "id": "iz_sOLBW_kTL",
        "outputId": "8d4c481b-71d2-4057-82d8-022188556a3b"
      },
      "execution_count": null,
      "outputs": [
        {
          "output_type": "execute_result",
          "data": {
            "text/plain": [
              "<matplotlib.collections.PathCollection at 0x7f17d0e18a00>"
            ]
          },
          "metadata": {},
          "execution_count": 59
        },
        {
          "output_type": "display_data",
          "data": {
            "text/plain": [
              "<Figure size 640x480 with 1 Axes>"
            ],
            "image/png": "[encoded data removed]"
          },
          "metadata": {}
        }
      ]
    },
    {
      "cell_type": "code",
      "source": [
        "plt.scatter(enrg_s0[:3000],enrg_pred[:3000])"
      ],
      "metadata": {
        "colab": {
          "base_uri": "https://localhost:8080/",
          "height": 447
        },
        "id": "PegzzWWLA_BV",
        "outputId": "fd9a0afb-f2ab-41be-9d08-df6e0c06ea5c"
      },
      "execution_count": null,
      "outputs": [
        {
          "output_type": "execute_result",
          "data": {
            "text/plain": [
              "<matplotlib.collections.PathCollection at 0x7f17d0f943d0>"
            ]
          },
          "metadata": {},
          "execution_count": 60
        },
        {
          "output_type": "display_data",
          "data": {
            "text/plain": [
              "<Figure size 640x480 with 1 Axes>"
            ],
            "image/png": "[encoded data removed]"
          },
          "metadata": {}
        }
      ]
    }
  ]
}